{
 "cells": [
  {
   "cell_type": "code",
   "execution_count": null,
   "metadata": {},
   "outputs": [],
   "source": [
    "from bs4 import BeautifulSoup as bs \n",
    "import requests \n",
    "import pandas as pd \n"
   ]
  },
  {
   "cell_type": "code",
   "execution_count": null,
   "metadata": {},
   "outputs": [],
   "source": [
    "HousingData = []\n",
    "for i in range(1,80):\n",
    "    url = f'https://www.imovirtual.com/arrendar/apartamento/?page={i}'\n",
    "    page = requests.get(url)\n",
    "\n",
    "\n",
    "    soup = bs(page.content, 'html.parser')\n",
    "\n",
    "    lists = soup.find_all('article', class_=\"offer-item\")\n",
    "\n",
    "    for list in lists:\n",
    "        title = list.find('span', class_=\"offer-item-title\").text\n",
    "        price = list.find('li', class_=\"offer-item-price\").get_text(strip=True).split('€')[0]\n",
    "        metros2 = list.find('strong', class_=\"visible-xs-block\").text.split('m²')[0]\n",
    "        location = list.find('p', class_=\"text-nowrap\").get_text(strip=True).split(':')[1]\n",
    "        \n",
    "        HousingData.append([title, price, metros2, location])\n"
   ]
  },
  {
   "cell_type": "code",
   "execution_count": null,
   "metadata": {},
   "outputs": [],
   "source": [
    "# Creating a DataFrame from the Data we collected. \n",
    "rent = pd.DataFrame(HousingData, columns=['title', 'price', 'metros2', 'location'])\n",
    "rent.head()\n"
   ]
  },
  {
   "cell_type": "code",
   "execution_count": null,
   "metadata": {},
   "outputs": [],
   "source": [
    "# The number of rooms is very important for any analysis, and the only place where the number of rooms was \n",
    "# Written was in the title column. By writing this code i took the numbers in the string and made a new column \n",
    "# named rooms\n",
    "rent2['Rooms'] = rent2['title'].str.extract('(\\d+)')\n",
    "rent2\n"
   ]
  },
  {
   "cell_type": "code",
   "execution_count": null,
   "metadata": {},
   "outputs": [],
   "source": [
    "#creating two new columns by spliting the location column by the last comma. I noticed that the region was \n",
    "#written after the last comma. \n",
    "rent2[['location', 'region']] = rent2['location'].str.rsplit(',', n=1, expand = True)\n",
    "rent2"
   ]
  },
  {
   "cell_type": "code",
   "execution_count": null,
   "metadata": {},
   "outputs": [],
   "source": [
    "#Removing all the whitespaces inside price and metros2 \n",
    "rent2['price'] = rent2['price'].str.strip()\n",
    "rent2['metros2'] = rent2['metros2'].str.strip()"
   ]
  },
  {
   "cell_type": "code",
   "execution_count": null,
   "metadata": {},
   "outputs": [],
   "source": [
    "rent3 = rent2.copy()"
   ]
  },
  {
   "cell_type": "code",
   "execution_count": null,
   "metadata": {},
   "outputs": [],
   "source": [
    "#Removing all the unecessary spaces to later make prices into numeric\n",
    "rent3['price'] = rent3['price'].str.replace(' ', '')\n",
    "rent3['price']\n"
   ]
  },
  {
   "cell_type": "code",
   "execution_count": null,
   "metadata": {},
   "outputs": [],
   "source": [
    "# Inside of the price there was a string as you see below. I replaced it with nothing. \n",
    "rent3['price'] = rent3['price'].str.replace('Preçosobconsulta', '')\n"
   ]
  },
  {
   "cell_type": "code",
   "execution_count": null,
   "metadata": {},
   "outputs": [],
   "source": [
    "# Makeing price into Numeric \n",
    "rent3['price'] = pd.to_numeric(rent3['price'], errors= 'coerce')\n",
    "rent3"
   ]
  },
  {
   "cell_type": "code",
   "execution_count": 138,
   "metadata": {},
   "outputs": [],
   "source": [
    "# In Europe commas and periods are switched. Here im switching it to normal so i can \n",
    "# make metros2 into numeric\n",
    "rent3['metros2'] = rent3['metros2'].str.replace(',', '.')"
   ]
  },
  {
   "cell_type": "code",
   "execution_count": 142,
   "metadata": {},
   "outputs": [],
   "source": [
    "# Converting both metros2 and Rooms to numeric or floats\n",
    "rent3['metros2'] = pd.to_numeric(rent3['metros2'], errors= 'coerce')\n",
    "rent3['Rooms'] = pd.to_numeric(rent3['Rooms'], errors= 'coerce')"
   ]
  },
  {
   "cell_type": "code",
   "execution_count": 144,
   "metadata": {},
   "outputs": [],
   "source": [
    "#exporting the edited file to a csv \n",
    "rent3.to_csv('imovirtual_portugal.csv')"
   ]
  }
 ],
 "metadata": {
  "kernelspec": {
   "display_name": "base",
   "language": "python",
   "name": "python3"
  },
  "language_info": {
   "codemirror_mode": {
    "name": "ipython",
    "version": 3
   },
   "file_extension": ".py",
   "mimetype": "text/x-python",
   "name": "python",
   "nbconvert_exporter": "python",
   "pygments_lexer": "ipython3",
   "version": "3.9.12"
  },
  "orig_nbformat": 4,
  "vscode": {
   "interpreter": {
    "hash": "0eaa832bca3428a527c2dd09acb62ee0a35feabbcc0455a15a9756c747d37824"
   }
  }
 },
 "nbformat": 4,
 "nbformat_minor": 2
}
